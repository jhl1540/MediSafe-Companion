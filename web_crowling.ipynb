{
 "cells": [
  {
   "cell_type": "code",
   "execution_count": null,
   "id": "a1fc7fa8",
   "metadata": {},
   "outputs": [
    {
     "name": "stdout",
     "output_type": "stream",
     "text": [
      "상호작용 정보 테이블을 찾을 수 없습니다.\n"
     ]
    }
   ],
   "source": [
    "import requests\n",
    "from bs4 import BeautifulSoup\n",
    "import pandas as pd\n",
    "\n",
    "def scrape_drug_interaction_info(url):\n",
    "    \"\"\"\n",
    "    주어진 URL에서 약물 상호작용 정보를 스크래핑하여 \n",
    "    '성분1', '성분2', '내용'으로 구성된 데이터베이스(DataFrame)를 생성합니다.\n",
    "    \"\"\"\n",
    "    \n",
    "    # 💡 [수정된 부분] 브라우저처럼 보이기 위한 헤더 정보\n",
    "    headers = {\n",
    "        'User-Agent': 'Mozilla/5.0 (Windows NT 10.0; Win64; x64) AppleWebKit/537.36 (KHTML, like Gecko) Chrome/91.0.4472.124 Safari/537.36'\n",
    "    }\n",
    "\n",
    "    try:\n",
    "        # 💡 [수정된 부분] 헤더 정보를 포함하여 요청\n",
    "        response = requests.get(url, headers=headers)\n",
    "        response.raise_for_status()\n",
    "    except requests.exceptions.RequestException as e:\n",
    "        print(f\"웹 페이지를 가져오는 중 오류가 발생했습니다: {e}\")\n",
    "        return None\n",
    "\n",
    "    soup = BeautifulSoup(response.content, 'html.parser')\n",
    "    \n",
    "    interaction_table = soup.find('table', class_='result_table3')\n",
    "\n",
    "    if not interaction_table:\n",
    "        print(\"상호작용 정보 테이블을 찾을 수 없습니다.\")\n",
    "        return None\n",
    "\n",
    "    interaction_data = []\n",
    "    for row in interaction_table.find_all('tr')[1:]:\n",
    "        columns = row.find_all('td')\n",
    "        if len(columns) == 3:\n",
    "            component1 = columns[0].get_text(strip=True)\n",
    "            component2 = columns[1].get_text(strip=True)\n",
    "            content = columns[2].get_text(strip=True)\n",
    "            \n",
    "            interaction_data.append({\n",
    "                '성분1': component1,\n",
    "                '성분2': component2,\n",
    "                '내용': content\n",
    "            })\n",
    "\n",
    "    db_df = pd.DataFrame(interaction_data)\n",
    "    return db_df\n",
    "\n",
    "# 스크래핑할 URL\n",
    "target_url = \"https://www.health.kr/searchDrug/result_interaction.asp?drug_cd=2021082400002\"\n",
    "\n",
    "# 함수를 실행하여 데이터를 가져옵니다.\n",
    "drug_interaction_db = scrape_drug_interaction_info(target_url)\n",
    "\n",
    "# 결과 출력\n",
    "if drug_interaction_db is not None:\n",
    "    print(\"✅ 약물 상호작용 정보 스크래핑 성공!\")\n",
    "    print(drug_interaction_db)\n",
    "\n",
    "    ## # "
   ]
  }
 ],
 "metadata": {
  "kernelspec": {
   "display_name": "Python 3",
   "language": "python",
   "name": "python3"
  },
  "language_info": {
   "codemirror_mode": {
    "name": "ipython",
    "version": 3
   },
   "file_extension": ".py",
   "mimetype": "text/x-python",
   "name": "python",
   "nbconvert_exporter": "python",
   "pygments_lexer": "ipython3",
   "version": "3.13.2"
  }
 },
 "nbformat": 4,
 "nbformat_minor": 5
}
