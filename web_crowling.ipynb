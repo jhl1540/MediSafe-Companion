{
 "cells": [
  {
   "cell_type": "code",
   "execution_count": 4,
   "id": "a1fc7fa8",
   "metadata": {},
   "outputs": [
    {
     "name": "stdout",
     "output_type": "stream",
     "text": [
      "데이터를 포함한 테이블을 찾을 수 없습니다.\n"
     ]
    }
   ],
   "source": [
    "import requests\n",
    "from bs4 import BeautifulSoup\n",
    "import csv\n",
    "\n",
    "# 웹페이지 URL\n",
    "url = \"https://www.health.kr/searchDrug/result_interaction.asp?drug_cd=2021082400002\"\n",
    "\n",
    "try:\n",
    "    # 웹페이지에 GET 요청 보내기\n",
    "    response = requests.get(url)\n",
    "    response.raise_for_status() # 요청이 성공했는지 확인\n",
    "\n",
    "    # BeautifulSoup 객체 생성\n",
    "    soup = BeautifulSoup(response.text, \"html.parser\")\n",
    "\n",
    "    # 올바른 클래스 이름으로 테이블 찾기\n",
    "    interaction_table = soup.find(\"table\", {\"class\": \"scroll_table\"})\n",
    "\n",
    "    # 테이블이 존재하는지 확인\n",
    "    if interaction_table:\n",
    "        # CSV 파일로 저장\n",
    "        with open('drug_interaction.csv', 'w', newline='', encoding='utf-8-sig') as csvfile:\n",
    "            writer = csv.writer(csvfile)\n",
    "            \n",
    "            # CSV 파일 헤더 작성\n",
    "            writer.writerow(['성분1', '성분2', '내용'])\n",
    "\n",
    "            # 테이블의 모든 행(tr)을 가져오기 (tbody 안의 tr만 선택)\n",
    "            rows = interaction_table.find('tbody').find_all(\"tr\")\n",
    "\n",
    "            # 각 행의 데이터를 추출하여 CSV 파일에 쓰기\n",
    "            for row in rows:\n",
    "                cols = row.find_all(\"td\")\n",
    "                \n",
    "                # 데이터 추출 및 공백 제거\n",
    "                ingredient1 = cols[0].get_text(strip=True)\n",
    "                ingredient2 = cols[1].get_text(strip=True)\n",
    "                # 내용의 줄바꿈을 공백으로 바꾸어 한 줄로 만듭니다.\n",
    "                content = ' '.join(cols[2].get_text(separator=' ', strip=True).split())\n",
    "\n",
    "                # CSV 파일에 한 행씩 쓰기\n",
    "                writer.writerow([ingredient1, ingredient2, content])\n",
    "        \n",
    "        print(\"drug_interaction.csv 파일이 성공적으로 생성되었습니다.\")\n",
    "\n",
    "    else:\n",
    "        print(\"데이터를 포함한 테이블을 찾을 수 없습니다.\")\n",
    "\n",
    "except requests.exceptions.RequestException as e:\n",
    "    print(f\"웹페이지를 가져오는 중 오류가 발생했습니다: {e}\")\n",
    "except Exception as e:\n",
    "    print(f\"알 수 없는 오류가 발생했습니다: {e}\")"
   ]
  }
 ],
 "metadata": {
  "kernelspec": {
   "display_name": "Python 3",
   "language": "python",
   "name": "python3"
  },
  "language_info": {
   "codemirror_mode": {
    "name": "ipython",
    "version": 3
   },
   "file_extension": ".py",
   "mimetype": "text/x-python",
   "name": "python",
   "nbconvert_exporter": "python",
   "pygments_lexer": "ipython3",
   "version": "3.13.2"
  }
 },
 "nbformat": 4,
 "nbformat_minor": 5
}
