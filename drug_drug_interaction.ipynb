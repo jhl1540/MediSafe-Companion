{
 "cells": [
  {
   "cell_type": "code",
   "execution_count": 4,
   "id": "27e98a32",
   "metadata": {},
   "outputs": [
    {
     "name": "stdout",
     "output_type": "stream",
     "text": [
      "CSV 파일 로드 성공!\n",
      "데이터 수: 191541개\n",
      "Document 객체 변환 완료!\n"
     ]
    }
   ],
   "source": [
    "import pandas as pd\n",
    "import os\n",
    "from dotenv import load_dotenv\n",
    "from langchain.docstore.document import Document\n",
    "from langchain_openai import OpenAIEmbeddings, ChatOpenAI\n",
    "from langchain.vectorstores import FAISS\n",
    "from langchain.chains import RetrievalQA\n",
    "from langchain.prompts import PromptTemplate\n",
    "\n",
    "# 0. .env 파일에서 API 키 로드\n",
    "load_dotenv()\n",
    "# .env 파일에 OPENAI_API_KEY가 설정되어 있는지 확인\n",
    "if os.getenv(\"OPENAI_API_KEY\") is None:\n",
    "    print(\"오류: .env 파일에 OPENAI_API_KEY를 설정해주세요.\")\n",
    "    exit()\n",
    "\n",
    "# 1. 데이터 로드 및 전처리 (사용자께서 작성하신 코드와 동일)\n",
    "try:\n",
    "    df = pd.read_csv('db_drug_interactions.csv')\n",
    "    print(\"CSV 파일 로드 성공!\")\n",
    "    print(f\"데이터 수: {len(df)}개\")\n",
    "\n",
    "    documents = []\n",
    "    for _, row in df.iterrows():\n",
    "        content = f\"Interaction between {row['Drug 1']} and {row['Drug 2']}: {row['Interaction Description']}\"\n",
    "        doc = Document(\n",
    "            page_content=content,\n",
    "            metadata={\n",
    "                'drug1': row['Drug 1'],\n",
    "                'drug2': row['Drug 2']\n",
    "            }\n",
    "        )\n",
    "        documents.append(doc)\n",
    "    print(\"Document 객체 변환 완료!\")\n",
    "\n",
    "except FileNotFoundError:\n",
    "    print(\"오류: 'db_drug_interactions.csv' 파일을 찾을 수 없습니다. 파일이 코드와 같은 디렉토리에 있는지 확인하세요.\")\n",
    "    exit()"
   ]
  },
  {
   "cell_type": "code",
   "execution_count": null,
   "id": "a9d58c8b",
   "metadata": {},
   "outputs": [],
   "source": [
    "\n",
    "# 2. Retriever (검색기) 설정\n",
    "# OpenAI 임베딩 모델 사용\n",
    "print(\"임베딩 모델 로딩 및 벡터 변환 중...\")\n",
    "embeddings = OpenAIEmbeddings(model=\"text-embedding-3-small\")\n",
    "\n",
    "# FAISS 벡터 데이터베이스 생성\n",
    "vector_store = FAISS.from_documents(documents, embeddings)\n",
    "print(\"벡터 데이터베이스 생성 완료!\")\n",
    "\n",
    "# Retriever 생성\n",
    "retriever = vector_store.as_retriever()"
   ]
  },
  {
   "cell_type": "code",
   "execution_count": null,
   "id": "a1fc7fa8",
   "metadata": {},
   "outputs": [
    {
     "name": "stdout",
     "output_type": "stream",
     "text": [
      "임베딩 모델 로딩 및 벡터 변환 중...\n"
     ]
    }
   ],
   "source": [
    "\n",
    "\n",
    "\n",
    "# 3. Generator (생성기) 설정\n",
    "# OpenAI 챗 모델 사용\n",
    "llm = ChatOpenAI(model_name=\"gpt-3.5-turbo\", temperature=0)\n",
    "print(\"언어 모델(LLM) 설정 완료!\")\n",
    "\n",
    "# 프롬프트 템플릿 정의\n",
    "prompt_template = \"\"\"\n",
    "당신은 약물 상호작용 전문가입니다. 제공된 정보를 바탕으로 사용자의 질문에 대해 명확하고 간결하게 한국어로 답변해주세요.\n",
    "정보를 찾을 수 없다면, \"제공된 정보 내에서는 해당 내용을 찾을 수 없습니다.\"라고 답변하세요.\n",
    "\n",
    "[제공된 정보]\n",
    "{context}\n",
    "\n",
    "[질문]\n",
    "{question}\n",
    "\n",
    "[답변]\n",
    "\"\"\"\n",
    "PROMPT = PromptTemplate(\n",
    "    template=prompt_template, input_variables=[\"context\", \"question\"]\n",
    ")\n"
   ]
  },
  {
   "cell_type": "code",
   "execution_count": 5,
   "id": "32a7f59d",
   "metadata": {},
   "outputs": [
    {
     "ename": "NameError",
     "evalue": "name 'retriever' is not defined",
     "output_type": "error",
     "traceback": [
      "\u001b[31m---------------------------------------------------------------------------\u001b[39m",
      "\u001b[31mNameError\u001b[39m                                 Traceback (most recent call last)",
      "\u001b[36mCell\u001b[39m\u001b[36m \u001b[39m\u001b[32mIn[5]\u001b[39m\u001b[32m, line 5\u001b[39m\n\u001b[32m      1\u001b[39m \u001b[38;5;66;03m# 4. RetrievalQA 체인 생성 및 실행\u001b[39;00m\n\u001b[32m      2\u001b[39m qa_chain = RetrievalQA.from_chain_type(\n\u001b[32m      3\u001b[39m     llm=llm,\n\u001b[32m      4\u001b[39m     chain_type=\u001b[33m\"\u001b[39m\u001b[33mstuff\u001b[39m\u001b[33m\"\u001b[39m,\n\u001b[32m----> \u001b[39m\u001b[32m5\u001b[39m     retriever=\u001b[43mretriever\u001b[49m,\n\u001b[32m      6\u001b[39m     chain_type_kwargs={\u001b[33m\"\u001b[39m\u001b[33mprompt\u001b[39m\u001b[33m\"\u001b[39m: PROMPT},\n\u001b[32m      7\u001b[39m     return_source_documents=\u001b[38;5;28;01mTrue\u001b[39;00m\n\u001b[32m      8\u001b[39m )\n\u001b[32m     10\u001b[39m \u001b[38;5;28;01mdef\u001b[39;00m\u001b[38;5;250m \u001b[39m\u001b[34mask_question\u001b[39m(query):\n\u001b[32m     11\u001b[39m     \u001b[38;5;28mprint\u001b[39m(\u001b[33mf\u001b[39m\u001b[33m\"\u001b[39m\u001b[38;5;130;01m\\n\u001b[39;00m\u001b[33m--- 질문: \u001b[39m\u001b[38;5;132;01m{\u001b[39;00mquery\u001b[38;5;132;01m}\u001b[39;00m\u001b[33m ---\u001b[39m\u001b[33m\"\u001b[39m)\n",
      "\u001b[31mNameError\u001b[39m: name 'retriever' is not defined"
     ]
    }
   ],
   "source": [
    "\n",
    "# 4. RetrievalQA 체인 생성 및 실행\n",
    "qa_chain = RetrievalQA.from_chain_type(\n",
    "    llm=llm,\n",
    "    chain_type=\"stuff\",\n",
    "    retriever=retriever,\n",
    "    chain_type_kwargs={\"prompt\": PROMPT},\n",
    "    return_source_documents=True\n",
    ")\n",
    "\n",
    "def ask_question(query):\n",
    "    print(f\"\\n--- 질문: {query} ---\")\n",
    "    result = qa_chain.invoke(query)\n",
    "\n",
    "    print(\"\\n[생성된 답변]\")\n",
    "    print(result['result'])\n",
    "\n",
    "    print(\"\\n[답변 근거 문서]\")\n",
    "    for doc in result['source_documents']:\n",
    "        print(f\"- {doc.page_content}\")\n",
    "\n",
    "# --- 시스템 실행 ---\n",
    "if __name__ == \"__main__\":\n",
    "    ask_question(\"What is the interaction between Trioxsalen and Verteporfin?\")\n",
    "    ask_question(\"Paclitaxel과 Verteporfin의 상호작용은 무엇인가요?\")"
   ]
  },
  {
   "cell_type": "code",
   "execution_count": null,
   "id": "254ce5f0",
   "metadata": {},
   "outputs": [],
   "source": []
  }
 ],
 "metadata": {
  "kernelspec": {
   "display_name": "Python 3",
   "language": "python",
   "name": "python3"
  },
  "language_info": {
   "codemirror_mode": {
    "name": "ipython",
    "version": 3
   },
   "file_extension": ".py",
   "mimetype": "text/x-python",
   "name": "python",
   "nbconvert_exporter": "python",
   "pygments_lexer": "ipython3",
   "version": "3.13.2"
  }
 },
 "nbformat": 4,
 "nbformat_minor": 5
}
