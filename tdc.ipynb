{
 "cells": [
  {
   "cell_type": "code",
   "execution_count": 2,
   "id": "87d69d1d",
   "metadata": {},
   "outputs": [
    {
     "ename": "ModuleNotFoundError",
     "evalue": "No module named 'numpy'",
     "output_type": "error",
     "traceback": [
      "\u001b[31m---------------------------------------------------------------------------\u001b[39m",
      "\u001b[31mModuleNotFoundError\u001b[39m                       Traceback (most recent call last)",
      "\u001b[36mCell\u001b[39m\u001b[36m \u001b[39m\u001b[32mIn[2]\u001b[39m\u001b[32m, line 1\u001b[39m\n\u001b[32m----> \u001b[39m\u001b[32m1\u001b[39m \u001b[38;5;28;01mimport\u001b[39;00m\u001b[38;5;250m \u001b[39m\u001b[34;01mnumpy\u001b[39;00m\u001b[38;5;250m \u001b[39m\u001b[38;5;28;01mas\u001b[39;00m\u001b[38;5;250m \u001b[39m\u001b[34;01mnp\u001b[39;00m\n",
      "\u001b[31mModuleNotFoundError\u001b[39m: No module named 'numpy'"
     ]
    }
   ],
   "source": [
    "import numpy as np"
   ]
  },
  {
   "cell_type": "code",
   "execution_count": null,
   "id": "bd6149e2",
   "metadata": {},
   "outputs": [],
   "source": [
    "%pip freeze > requirements.txt"
   ]
  },
  {
   "cell_type": "code",
   "execution_count": 4,
   "id": "6ff1c2c4",
   "metadata": {},
   "outputs": [
    {
     "name": "stdout",
     "output_type": "stream",
     "text": [
      "Package                  Version\n",
      "------------------------ -----------\n",
      "aiohappyeyeballs         2.6.1\n",
      "aiohttp                  3.12.15\n",
      "aiosignal                1.4.0\n",
      "annotated-types          0.7.0\n",
      "anyio                    4.10.0\n",
      "asttokens                3.0.0\n",
      "attrs                    25.3.0\n",
      "certifi                  2025.8.3\n",
      "charset-normalizer       3.4.3\n",
      "colorama                 0.4.6\n",
      "comm                     0.2.3\n",
      "debugpy                  1.8.16\n",
      "decorator                5.2.1\n",
      "distro                   1.9.0\n",
      "executing                2.2.1\n",
      "frozenlist               1.7.0\n",
      "greenlet                 3.2.4\n",
      "h11                      0.16.0\n",
      "httpcore                 1.0.9\n",
      "httpx                    0.28.1\n",
      "idna                     3.10\n",
      "ipykernel                6.30.1\n",
      "ipython                  9.5.0\n",
      "ipython_pygments_lexers  1.1.1\n",
      "jedi                     0.19.2\n",
      "jiter                    0.11.0\n",
      "jsonpatch                1.33\n",
      "jsonpointer              3.0.0\n",
      "jupyter_client           8.6.3\n",
      "jupyter_core             5.8.1\n",
      "langchain                0.3.27\n",
      "langchain-core           0.3.76\n",
      "langchain-openai         0.3.33\n",
      "langchain-tavily         0.2.11\n",
      "langchain-text-splitters 0.3.11\n",
      "langgraph                0.6.7\n",
      "langgraph-checkpoint     2.1.1\n",
      "langgraph-prebuilt       0.6.4\n",
      "langgraph-sdk            0.2.6\n",
      "langsmith                0.4.28\n",
      "matplotlib-inline        0.1.7\n",
      "multidict                6.6.4\n",
      "nest-asyncio             1.6.0\n",
      "openai                   1.107.3\n",
      "orjson                   3.11.3\n",
      "ormsgpack                1.10.0\n",
      "packaging                25.0\n",
      "parso                    0.8.5\n",
      "pip                      25.2\n",
      "platformdirs             4.4.0\n",
      "prompt_toolkit           3.0.52\n",
      "propcache                0.3.2\n",
      "psutil                   7.0.0\n",
      "PubChemPy                1.0.5\n",
      "pure_eval                0.2.3\n",
      "pydantic                 2.11.9\n",
      "pydantic_core            2.33.2\n",
      "Pygments                 2.19.2\n",
      "python-dateutil          2.9.0.post0\n",
      "pywin32                  311\n",
      "PyYAML                   6.0.2\n",
      "pyzmq                    27.1.0\n",
      "regex                    2025.9.1\n",
      "requests                 2.32.5\n",
      "requests-toolbelt        1.0.0\n",
      "six                      1.17.0\n",
      "sniffio                  1.3.1\n",
      "SQLAlchemy               2.0.43\n",
      "stack-data               0.6.3\n",
      "tenacity                 9.1.2\n",
      "tiktoken                 0.11.0\n",
      "tornado                  6.5.2\n",
      "tqdm                     4.67.1\n",
      "traitlets                5.14.3\n",
      "typing_extensions        4.15.0\n",
      "typing-inspection        0.4.1\n",
      "urllib3                  2.5.0\n",
      "wcwidth                  0.2.13\n",
      "xxhash                   3.5.0\n",
      "yarl                     1.20.1\n",
      "zstandard                0.25.0\n",
      "Note: you may need to restart the kernel to use updated packages.\n"
     ]
    }
   ],
   "source": [
    "%pip list"
   ]
  },
  {
   "cell_type": "code",
   "execution_count": null,
   "id": "c3fe7378",
   "metadata": {},
   "outputs": [],
   "source": []
  },
  {
   "cell_type": "code",
   "execution_count": null,
   "id": "25e4c205",
   "metadata": {},
   "outputs": [],
   "source": []
  }
 ],
 "metadata": {
  "kernelspec": {
   "display_name": ".venv",
   "language": "python",
   "name": "python3"
  },
  "language_info": {
   "codemirror_mode": {
    "name": "ipython",
    "version": 3
   },
   "file_extension": ".py",
   "mimetype": "text/x-python",
   "name": "python",
   "nbconvert_exporter": "python",
   "pygments_lexer": "ipython3",
   "version": "3.13.7"
  }
 },
 "nbformat": 4,
 "nbformat_minor": 5
}
